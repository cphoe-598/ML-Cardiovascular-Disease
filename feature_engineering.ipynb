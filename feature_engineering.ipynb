{
 "cells": [
  {
   "cell_type": "code",
   "execution_count": 10,
   "id": "da858ab6-bbc8-4300-a124-498b3393659d",
   "metadata": {},
   "outputs": [],
   "source": [
    "import pandas as pd\n",
    "from sklearn.preprocessing import StandardScaler"
   ]
  },
  {
   "cell_type": "markdown",
   "id": "8281ac69-31a3-4cd9-8111-05337318c0db",
   "metadata": {},
   "source": [
    "# Cardiovascular Disease ML\n",
    "\n",
    "## Feature Engineering\n",
    "\n",
    "---"
   ]
  },
  {
   "cell_type": "code",
   "execution_count": 11,
   "id": "2118ee19-87d4-4121-b418-5249d7889d04",
   "metadata": {},
   "outputs": [],
   "source": [
    "cv_data = pd.read_csv(\"./data/heart_data.csv\", sep = \",\").drop([\"index\", \"id\"], axis = 1)\n",
    "features, target = cv_data.drop(\"cardio\", axis = 1), cv_data[\"cardio\"]"
   ]
  },
  {
   "cell_type": "markdown",
   "id": "90268729-c098-4a7c-ae4b-cd09e9a0784e",
   "metadata": {},
   "source": [
    "# Clean Up `age` Data\n",
    "\n",
    "*old*"
   ]
  },
  {
   "cell_type": "raw",
   "id": "cc4e59a3-59d0-42f2-807e-cd93d6a35945",
   "metadata": {},
   "source": [
    "cv_data.rename(columns = {\"age\" : \"age_days\"}, inplace = True)\n",
    "cv_data[\"age_years\"] = cv_data[\"age_days\"] / 365  # convert age from days to years\n",
    "cv_data[\"age_group\"] = pd.cut(cv_data[\"age_years\"],\n",
    "                              bins = [20, 40, 60, 150],\n",
    "                              labels = [\"21-40\", \"41-60\", \"61+\"],\n",
    "                              right = False)\n",
    "cv_data = cv_data.drop([\"age_days\", \"age_years\"], axis = 1)\n",
    "print(cv_data[\"age_group\"].value_counts())\n",
    "cv_data = pd.get_dummies(cv_data, columns = [\"age_group\"], prefix = \"age_group\", dtype = int)  # one hot encoding for age groups!"
   ]
  },
  {
   "cell_type": "markdown",
   "id": "a3adf7d0-bed3-41b5-926f-75961f627955",
   "metadata": {},
   "source": [
    "# Create `bmi` Column\n",
    "\n",
    "Combine height and weight, which are likely strongly related."
   ]
  },
  {
   "cell_type": "code",
   "execution_count": 12,
   "id": "44f1d9ac-3670-4027-8773-d4150ba81830",
   "metadata": {},
   "outputs": [],
   "source": [
    "cv_data[\"bmi\"] = cv_data[\"weight\"] / (cv_data[\"height\"] * 100) ** 2\n",
    "cv_data.drop([\"weight\", \"height\"], axis = 1, inplace = True)"
   ]
  },
  {
   "cell_type": "markdown",
   "id": "bb131f46-6391-4055-bb35-79d0e8807ce4",
   "metadata": {},
   "source": [
    "# Create Interactors\n",
    "\n",
    "*old*\n",
    "\n",
    "Likely Relationships:\n",
    "\n",
    "-  Increased effects from smoking with age\n",
    "-  Varied BMI across genders"
   ]
  },
  {
   "cell_type": "raw",
   "id": "23d2af15-8471-4a8c-a5d1-ea8739362718",
   "metadata": {},
   "source": [
    "cv_data[\"age_x_smoke\"]  = cv_data[\"age\"] * cv_data[\"smoke\"]\n",
    "cv_data[\"bmi_x_gender\"] = cv_data[\"bmi\"] * cv_data[\"gender\"]"
   ]
  },
  {
   "cell_type": "markdown",
   "id": "b6da1043-6d1e-4462-be92-039e1354955f",
   "metadata": {},
   "source": [
    "# Scale Numeric Data"
   ]
  },
  {
   "cell_type": "code",
   "execution_count": 13,
   "id": "e3c3904c-949b-46fa-b358-34dd8a1b3b2d",
   "metadata": {},
   "outputs": [
    {
     "data": {
      "text/plain": [
       "'\\nnumeric_cols = [\"age\", \"bmi\", \"ap_hi\", \"ap_lo\"]\\nscaler = StandardScaler()\\ncv_data[numeric_cols] = scaler.fit_transform(cv_data[numeric_cols])\\n'"
      ]
     },
     "execution_count": 13,
     "metadata": {},
     "output_type": "execute_result"
    }
   ],
   "source": [
    "\"\"\"\n",
    "numeric_cols = [\"age\", \"bmi\", \"ap_hi\", \"ap_lo\"]\n",
    "scaler = StandardScaler()\n",
    "cv_data[numeric_cols] = scaler.fit_transform(cv_data[numeric_cols])\n",
    "\"\"\""
   ]
  },
  {
   "cell_type": "markdown",
   "id": "c2adea6e-6108-42b3-8225-404ba2dc20c4",
   "metadata": {},
   "source": [
    "# Export To File"
   ]
  },
  {
   "cell_type": "code",
   "execution_count": null,
   "id": "a2ce5432-b9ec-4214-8fba-a77f5b02ef03",
   "metadata": {},
   "outputs": [],
   "source": [
    "cv_data.to_csv(\"./data/ready_data.csv\", sep = \",\")"
   ]
  }
 ],
 "metadata": {
  "kernelspec": {
   "display_name": "Python 3 (ipykernel)",
   "language": "python",
   "name": "python3"
  },
  "language_info": {
   "codemirror_mode": {
    "name": "ipython",
    "version": 3
   },
   "file_extension": ".py",
   "mimetype": "text/x-python",
   "name": "python",
   "nbconvert_exporter": "python",
   "pygments_lexer": "ipython3",
   "version": "3.12.12"
  }
 },
 "nbformat": 4,
 "nbformat_minor": 5
}
