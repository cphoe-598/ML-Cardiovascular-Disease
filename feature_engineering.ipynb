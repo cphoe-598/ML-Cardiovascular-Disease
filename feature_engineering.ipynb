{
 "cells": [
  {
   "cell_type": "code",
   "execution_count": 10,
   "id": "da858ab6-bbc8-4300-a124-498b3393659d",
   "metadata": {},
   "outputs": [],
   "source": [
    "import pandas as pd\n",
    "from sklearn.preprocessing import StandardScaler"
   ]
  },
  {
   "cell_type": "markdown",
   "id": "8281ac69-31a3-4cd9-8111-05337318c0db",
   "metadata": {},
   "source": [
    "# Cardiovascular Disease ML\n",
    "\n",
    "## Feature Engineering\n",
    "\n",
    "---"
   ]
  },
  {
   "cell_type": "code",
   "execution_count": 11,
   "id": "2118ee19-87d4-4121-b418-5249d7889d04",
   "metadata": {},
   "outputs": [],
   "source": [
    "cv_data = pd.read_csv(\"./data/heart_data.csv\", sep = \",\").drop([\"index\", \"id\"], axis = 1)\n",
    "features, target = cv_data.drop(\"cardio\", axis = 1), cv_data[\"cardio\"]"
   ]
  },
  {
   "cell_type": "markdown",
   "id": "a3adf7d0-bed3-41b5-926f-75961f627955",
   "metadata": {},
   "source": [
    "# Create `bmi` Column\n",
    "\n",
    "Combine height and weight, which are likely strongly related."
   ]
  },
  {
   "cell_type": "code",
   "execution_count": 12,
   "id": "44f1d9ac-3670-4027-8773-d4150ba81830",
   "metadata": {},
   "outputs": [],
   "source": [
    "cv_data[\"bmi\"] = cv_data[\"weight\"] / (cv_data[\"height\"] * 100) ** 2\n",
    "cv_data.drop([\"weight\", \"height\"], axis = 1, inplace = True)"
   ]
  },
  {
   "cell_type": "markdown",
   "id": "c2adea6e-6108-42b3-8225-404ba2dc20c4",
   "metadata": {},
   "source": [
    "# Export To File"
   ]
  },
  {
   "cell_type": "code",
   "execution_count": null,
   "id": "a2ce5432-b9ec-4214-8fba-a77f5b02ef03",
   "metadata": {},
   "outputs": [],
   "source": [
    "cv_data.to_csv(\"./data/ready_data.csv\", sep = \",\")"
   ]
  }
 ],
 "metadata": {
  "kernelspec": {
   "display_name": "Python 3 (ipykernel)",
   "language": "python",
   "name": "python3"
  },
  "language_info": {
   "codemirror_mode": {
    "name": "ipython",
    "version": 3
   },
   "file_extension": ".py",
   "mimetype": "text/x-python",
   "name": "python",
   "nbconvert_exporter": "python",
   "pygments_lexer": "ipython3",
   "version": "3.12.12"
  }
 },
 "nbformat": 4,
 "nbformat_minor": 5
}
